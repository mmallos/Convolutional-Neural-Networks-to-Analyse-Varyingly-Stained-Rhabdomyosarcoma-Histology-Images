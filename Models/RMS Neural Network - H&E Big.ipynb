{
 "cells": [
  {
   "cell_type": "code",
   "execution_count": 4,
   "id": "ce239b12",
   "metadata": {},
   "outputs": [
    {
     "name": "stdout",
     "output_type": "stream",
     "text": [
      "No. ARMS Train: 3268\n",
      "No. ERMS Train: 3216\n",
      "No. ARMS Validation: 1354\n",
      "No. ERMS Validation: 1539\n"
     ]
    }
   ],
   "source": [
    "import RMS_utils\n",
    "train_dir, validation_dir, class_weight = RMS_utils.prep_dir(\"RMS H&E Big/\")"
   ]
  },
  {
   "cell_type": "code",
   "execution_count": 2,
   "id": "17a5405c",
   "metadata": {
    "scrolled": false
   },
   "outputs": [
    {
     "name": "stdout",
     "output_type": "stream",
     "text": [
      "Model: \"sequential\"\n",
      "_________________________________________________________________\n",
      "Layer (type)                 Output Shape              Param #   \n",
      "=================================================================\n",
      "inception_resnet_v2 (Functio (None, 3, 3, 1536)        54336736  \n",
      "_________________________________________________________________\n",
      "flatten (Flatten)            (None, 13824)             0         \n",
      "_________________________________________________________________\n",
      "dense (Dense)                (None, 1024)              14156800  \n",
      "_________________________________________________________________\n",
      "dropout (Dropout)            (None, 1024)              0         \n",
      "_________________________________________________________________\n",
      "dense_1 (Dense)              (None, 512)               524800    \n",
      "_________________________________________________________________\n",
      "dense_2 (Dense)              (None, 1)                 513       \n",
      "=================================================================\n",
      "Total params: 69,018,849\n",
      "Trainable params: 68,958,305\n",
      "Non-trainable params: 60,544\n",
      "_________________________________________________________________\n"
     ]
    }
   ],
   "source": [
    "from tensorflow.keras.applications import InceptionResNetV2\n",
    "from tensorflow.keras import layers, models, activations\n",
    "\n",
    "conv_base = InceptionResNetV2(weights='imagenet', include_top=False, input_shape=(150, 150, 3))\n",
    "\n",
    "model = models.Sequential()\n",
    "model.add(conv_base)\n",
    "model.add(layers.Flatten())\n",
    "model.add(layers.Dense(1024, activation='relu'))\n",
    "model.add(layers.Dropout(0.3))\n",
    "model.add(layers.Dense(512, activation='relu'))\n",
    "model.add(layers.Dense(1, activation='sigmoid'))\n",
    "model.summary()"
   ]
  },
  {
   "cell_type": "code",
   "execution_count": 3,
   "id": "5ecad9b8",
   "metadata": {},
   "outputs": [
    {
     "name": "stdout",
     "output_type": "stream",
     "text": [
      "Found 6482 images belonging to 2 classes.\n",
      "Found 2891 images belonging to 2 classes.\n"
     ]
    }
   ],
   "source": [
    "from tensorflow.keras.optimizers import Adam\n",
    "from tensorflow.keras.preprocessing.image import ImageDataGenerator\n",
    "\n",
    "model.compile(optimizer = Adam(lr=0.00007), \n",
    "              loss = 'binary_crossentropy', \n",
    "              metrics = ['AUC'])\n",
    "\n",
    "# Add our data-augmentation parameters to ImageDataGenerator\n",
    "train_datagen = ImageDataGenerator(rescale = 1.0/255.,\n",
    "                                   rotation_range = 90,\n",
    "                                   width_shift_range = .0,\n",
    "                                   height_shift_range = .5,\n",
    "                                   shear_range = .5,\n",
    "                                   zoom_range = .5,\n",
    "                                   horizontal_flip = True,\n",
    "                                   vertical_flip = True,\n",
    "                                   fill_mode='wrap')\n",
    "\n",
    "\n",
    "train_generator, validation_generator = RMS_utils.prep_datagen(train_dir, validation_dir, train_datagen, 48, 150)"
   ]
  },
  {
   "cell_type": "code",
   "execution_count": 4,
   "id": "6feaff99",
   "metadata": {
    "scrolled": true
   },
   "outputs": [
    {
     "name": "stdout",
     "output_type": "stream",
     "text": [
      "Epoch 1/5\n",
      "136/136 [==============================] - 130s 953ms/step - loss: 0.4906 - auc: 0.8491 - val_loss: 0.6437 - val_auc: 0.7834\n",
      "Epoch 2/5\n",
      "136/136 [==============================] - 117s 862ms/step - loss: 0.3113 - auc: 0.9384 - val_loss: 0.7574 - val_auc: 0.8302\n",
      "Epoch 3/5\n",
      "136/136 [==============================] - 119s 873ms/step - loss: 0.2760 - auc: 0.9519 - val_loss: 0.5248 - val_auc: 0.8514\n",
      "Epoch 4/5\n",
      "136/136 [==============================] - 119s 878ms/step - loss: 0.2542 - auc: 0.9582 - val_loss: 0.5792 - val_auc: 0.8549\n",
      "Epoch 5/5\n",
      "136/136 [==============================] - 119s 878ms/step - loss: 0.2339 - auc: 0.9654 - val_loss: 0.6392 - val_auc: 0.8205\n"
     ]
    }
   ],
   "source": [
    "history = model.fit(train_generator,\n",
    "                              validation_data = validation_generator,\n",
    "                              #steps_per_epoch = steps,\n",
    "                              epochs = 5,\n",
    "                              #validation_steps = steps,\n",
    "                              verbose = 1,\n",
    "                              class_weight=class_weight\n",
    "                              #callbacks = [learning_rate_reduction]\n",
    "                              #callbacks=[tensorboard_callback]\n",
    "                   )"
   ]
  },
  {
   "cell_type": "code",
   "execution_count": 22,
   "id": "880ec840",
   "metadata": {
    "scrolled": false
   },
   "outputs": [
    {
     "data": {
      "text/plain": [
       "Text(0.5, 1.0, 'Training and Validation loss')"
      ]
     },
     "execution_count": 22,
     "metadata": {},
     "output_type": "execute_result"
    },
    {
     "data": {
      "image/png": "[encoded data removed]",
      "text/plain": [
       "<Figure size 432x288 with 1 Axes>"
      ]
     },
     "metadata": {
      "needs_background": "light"
     },
     "output_type": "display_data"
    },
    {
     "data": {
      "image/png": "[encoded data removed]",
      "text/plain": [
       "<Figure size 432x288 with 1 Axes>"
      ]
     },
     "metadata": {
      "needs_background": "light"
     },
     "output_type": "display_data"
    }
   ],
   "source": [
    "RMS_utils.show_results(history, save = False)"
   ]
  },
  {
   "cell_type": "code",
   "execution_count": 5,
   "id": "af753c9d",
   "metadata": {},
   "outputs": [
    {
     "name": "stdout",
     "output_type": "stream",
     "text": [
      "Confusion Matrix\n",
      "[[1145  208]\n",
      " [ 452 1086]]\n",
      "              precision    recall  f1-score   support\n",
      "\n",
      "        ARMS       0.72      0.85      0.78      1353\n",
      "        ERMS       0.84      0.71      0.77      1538\n",
      "\n",
      "    accuracy                           0.77      2891\n",
      "   macro avg       0.78      0.78      0.77      2891\n",
      "weighted avg       0.78      0.77      0.77      2891\n",
      "\n"
     ]
    }
   ],
   "source": [
    "RMS_utils.show_preds(model, validation_generator)"
   ]
  },
  {
   "cell_type": "code",
   "execution_count": 24,
   "id": "e6180521",
   "metadata": {},
   "outputs": [],
   "source": [
    "#Save Model to use in visualisations and get auc\n",
    "import pickle\n",
    "\n",
    "#model.save('results Saved Model - H&E No Norm ')\n",
    "with open('Saved Model History - H&E Norm', 'wb') as file_pi:\n",
    "        pickle.dump(history.history, file_pi)"
   ]
  },
  {
   "cell_type": "code",
   "execution_count": null,
   "id": "489a18cf",
   "metadata": {},
   "outputs": [],
   "source": []
  }
 ],
 "metadata": {
  "kernelspec": {
   "display_name": "Python 3",
   "language": "python",
   "name": "python3"
  },
  "language_info": {
   "codemirror_mode": {
    "name": "ipython",
    "version": 3
   },
   "file_extension": ".py",
   "mimetype": "text/x-python",
   "name": "python",
   "nbconvert_exporter": "python",
   "pygments_lexer": "ipython3",
   "version": "3.7.10"
  }
 },
 "nbformat": 4,
 "nbformat_minor": 5
}

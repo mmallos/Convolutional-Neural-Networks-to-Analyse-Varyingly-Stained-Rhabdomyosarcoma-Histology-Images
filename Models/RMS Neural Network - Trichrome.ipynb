{
 "cells": [
  {
   "cell_type": "code",
   "execution_count": 1,
   "id": "60dd57af",
   "metadata": {},
   "outputs": [
    {
     "name": "stdout",
     "output_type": "stream",
     "text": [
      "No. ARMS Train: 105\n",
      "No. ERMS Train: 301\n",
      "No. ARMS Validation: 43\n",
      "No. ERMS Validation: 148\n"
     ]
    }
   ],
   "source": [
    "import RMS_utils\n",
    "train_dir, validation_dir, class_weight = RMS_utils.prep_dir(\"RMS Trichrome/\")"
   ]
  },
  {
   "cell_type": "code",
   "execution_count": 2,
   "id": "75f7f8d7",
   "metadata": {},
   "outputs": [
    {
     "name": "stdout",
     "output_type": "stream",
     "text": [
      "Model: \"sequential\"\n",
      "_________________________________________________________________\n",
      "Layer (type)                 Output Shape              Param #   \n",
      "=================================================================\n",
      "inception_resnet_v2 (Functio (None, 4, 4, 1536)        54336736  \n",
      "_________________________________________________________________\n",
      "dense (Dense)                (None, 4, 4, 1024)        1573888   \n",
      "_________________________________________________________________\n",
      "max_pooling2d_4 (MaxPooling2 (None, 2, 2, 1024)        0         \n",
      "_________________________________________________________________\n",
      "flatten (Flatten)            (None, 4096)              0         \n",
      "_________________________________________________________________\n",
      "dropout (Dropout)            (None, 4096)              0         \n",
      "_________________________________________________________________\n",
      "dense_1 (Dense)              (None, 1024)              4195328   \n",
      "_________________________________________________________________\n",
      "dense_2 (Dense)              (None, 1)                 1025      \n",
      "=================================================================\n",
      "Total params: 60,106,977\n",
      "Trainable params: 60,046,433\n",
      "Non-trainable params: 60,544\n",
      "_________________________________________________________________\n"
     ]
    }
   ],
   "source": [
    "from tensorflow.keras.applications import InceptionResNetV2\n",
    "from tensorflow.keras import layers, models, activations\n",
    "\n",
    "conv_base = InceptionResNetV2(weights='imagenet', include_top=False, input_shape=(200, 200, 3))\n",
    "\n",
    "model = models.Sequential()\n",
    "model.add(conv_base)\n",
    "model.add(layers.Dense(1024, activation='relu'))\n",
    "model.add(layers.MaxPooling2D((2, 2)))\n",
    "model.add(layers.Flatten())\n",
    "#model.add(layers.Activation(activations.relu))\n",
    "model.add(layers.Dropout(0.35))\n",
    "model.add(layers.Dense(1024, activation='relu'))\n",
    "model.add(layers.Dense(1, activation='sigmoid'))\n",
    "model.summary()"
   ]
  },
  {
   "cell_type": "code",
   "execution_count": 3,
   "id": "6edc9517",
   "metadata": {},
   "outputs": [
    {
     "name": "stdout",
     "output_type": "stream",
     "text": [
      "Found 406 images belonging to 2 classes.\n",
      "Found 191 images belonging to 2 classes.\n"
     ]
    }
   ],
   "source": [
    "from tensorflow.keras.optimizers import Adam\n",
    "from tensorflow.keras.preprocessing.image import ImageDataGenerator\n",
    "\n",
    "model.compile(optimizer = Adam(lr=0.00007), \n",
    "              loss = 'binary_crossentropy', \n",
    "              metrics = ['AUC'])\n",
    "\n",
    "# Add our data-augmentation parameters to ImageDataGenerator\n",
    "train_datagen = ImageDataGenerator(rescale = 1.0/255.,\n",
    "                                   rotation_range = 360,\n",
    "                                   width_shift_range = 0.2,\n",
    "                                   height_shift_range = 0.0,\n",
    "                                   shear_range = 0.0,\n",
    "                                   zoom_range = 0.0,\n",
    "                                   horizontal_flip = True,\n",
    "                                   vertical_flip = True,\n",
    "                                   fill_mode='wrap')\n",
    "\n",
    "train_generator, validation_generator = RMS_utils.prep_datagen(train_dir, validation_dir, train_datagen, 10, 200)"
   ]
  },
  {
   "cell_type": "code",
   "execution_count": 4,
   "id": "cba7ffe5",
   "metadata": {},
   "outputs": [
    {
     "name": "stdout",
     "output_type": "stream",
     "text": [
      "41/41 [==============================] - 12s 297ms/step - loss: 0.4112 - auc: 0.5075 - val_loss: 0.4223 - val_auc: 0.8461\n"
     ]
    }
   ],
   "source": [
    "history = model.fit(train_generator,\n",
    "                            validation_data = validation_generator,\n",
    "                            #steps_per_epoch = 20,\n",
    "                            epochs = 1,\n",
    "                            #validation_steps = 5,\n",
    "                            verbose = 1,\n",
    "                            class_weight=class_weight\n",
    "                            #callbacks=[tensorboard_callback]\n",
    "                            #callbacks=[learning_rate_reduction]\n",
    "                   )"
   ]
  },
  {
   "cell_type": "code",
   "execution_count": 14,
   "id": "9a794bc5",
   "metadata": {},
   "outputs": [
    {
     "data": {
      "image/png": "[encoded data removed]",
      "text/plain": [
       "<Figure size 432x288 with 1 Axes>"
      ]
     },
     "metadata": {
      "needs_background": "light"
     },
     "output_type": "display_data"
    },
    {
     "data": {
      "image/png": "[encoded data removed]",
      "text/plain": [
       "<Figure size 432x288 with 1 Axes>"
      ]
     },
     "metadata": {
      "needs_background": "light"
     },
     "output_type": "display_data"
    }
   ],
   "source": [
    "RMS_utils.show_results(history, save = False)"
   ]
  },
  {
   "cell_type": "code",
   "execution_count": 5,
   "id": "e0b64c06",
   "metadata": {},
   "outputs": [
    {
     "name": "stdout",
     "output_type": "stream",
     "text": [
      "Confusion Matrix\n",
      "[[ 40   3]\n",
      " [122  26]]\n",
      "              precision    recall  f1-score   support\n",
      "\n",
      "        ARMS       0.25      0.93      0.39        43\n",
      "        ERMS       0.90      0.18      0.29       148\n",
      "\n",
      "    accuracy                           0.35       191\n",
      "   macro avg       0.57      0.55      0.34       191\n",
      "weighted avg       0.75      0.35      0.32       191\n",
      "\n"
     ]
    }
   ],
   "source": [
    "RMS_utils.show_preds(model, validation_generator)"
   ]
  },
  {
   "cell_type": "code",
   "execution_count": null,
   "id": "42f24fda",
   "metadata": {},
   "outputs": [],
   "source": [
    "#Save Model to use in visualisations and get auc\n",
    "import pickle\n",
    "\n",
    "model.save('Saved Model - trichrome')\n",
    "with open('Saved Model History - trichrome', 'wb') as file_pi:\n",
    "        pickle.dump(history.history, file_pi)"
   ]
  },
  {
   "cell_type": "code",
   "execution_count": 6,
   "id": "3aedd7b2",
   "metadata": {},
   "outputs": [
    {
     "data": {
      "image/png": "[encoded data removed]",
      "text/plain": [
       "<Figure size 576x576 with 1 Axes>"
      ]
     },
     "metadata": {
      "needs_background": "light"
     },
     "output_type": "display_data"
    }
   ],
   "source": [
    "RMS_utils.show_heatmap(model, validation_generator, save=True)"
   ]
  }
 ],
 "metadata": {
  "kernelspec": {
   "display_name": "Python 3",
   "language": "python",
   "name": "python3"
  },
  "language_info": {
   "codemirror_mode": {
    "name": "ipython",
    "version": 3
   },
   "file_extension": ".py",
   "mimetype": "text/x-python",
   "name": "python",
   "nbconvert_exporter": "python",
   "pygments_lexer": "ipython3",
   "version": "3.7.10"
  }
 },
 "nbformat": 4,
 "nbformat_minor": 5
}

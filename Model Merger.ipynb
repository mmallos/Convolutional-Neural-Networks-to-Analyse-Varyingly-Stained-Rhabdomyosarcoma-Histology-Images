{
 "cells": [
  {
   "cell_type": "code",
   "execution_count": 1,
   "id": "0e6a273c",
   "metadata": {},
   "outputs": [],
   "source": [
    "import os\n",
    "import tensorflow as tf\n",
    "import RMS_utils"
   ]
  },
  {
   "cell_type": "code",
   "execution_count": 2,
   "id": "682acf56",
   "metadata": {},
   "outputs": [],
   "source": [
    "model_HE = tf.keras.models.load_model('Results/Saved Model - H&E')"
   ]
  },
  {
   "cell_type": "code",
   "execution_count": 3,
   "id": "ba5e2fc7",
   "metadata": {},
   "outputs": [],
   "source": [
    "model_trichrome = tf.keras.models.load_model('Results/Saved Model - Trichrome')"
   ]
  },
  {
   "cell_type": "code",
   "execution_count": 4,
   "id": "27704f86",
   "metadata": {},
   "outputs": [],
   "source": [
    "model_MYoD1 = tf.keras.models.load_model('Results/Saved Model - Myod1 .91')"
   ]
  },
  {
   "cell_type": "code",
   "execution_count": 5,
   "id": "a461175a",
   "metadata": {},
   "outputs": [],
   "source": [
    "model_Myogenin = tf.keras.models.load_model('Results/Saved Model - Myogenin .90')"
   ]
  },
  {
   "cell_type": "code",
   "execution_count": 6,
   "id": "d41f2079",
   "metadata": {},
   "outputs": [
    {
     "name": "stdout",
     "output_type": "stream",
     "text": [
      "No. ARMS Train: 90\n",
      "No. ERMS Train: 225\n",
      "No. ARMS Validation: 40\n",
      "No. ERMS Validation: 103\n"
     ]
    }
   ],
   "source": [
    "#Set trainable to false for models\n",
    "model_HE.trainable = False\n",
    "model_trichrome.trainable = False\n",
    "model_Myogenin.trainable = False\n",
    "model_MYoD1.trainable = False\n",
    "\n",
    "#Set input shape and prepare directory\n",
    "input_shape = [200, 200, 3]\n",
    "inputs = tf.keras.layers.Input(shape=input_shape)\n",
    "\n",
    "train_dir, validation_dir, class_weight = RMS_utils.prep_dir('RMS MyoD1')\n"
   ]
  },
  {
   "cell_type": "code",
   "execution_count": 7,
   "id": "c08f7fc7",
   "metadata": {},
   "outputs": [
    {
     "name": "stdout",
     "output_type": "stream",
     "text": [
      "Model: \"functional_1\"\n",
      "__________________________________________________________________________________________________\n",
      "Layer (type)                    Output Shape         Param #     Connected to                     \n",
      "==================================================================================================\n",
      "input_1 (InputLayer)            [(None, 200, 200, 3) 0                                            \n",
      "__________________________________________________________________________________________________\n",
      "sequential (Sequential)         (None, 1)            60106977    input_1[0][0]                    \n",
      "__________________________________________________________________________________________________\n",
      "sequential_3 (Sequential)       (None, 1)            60106977    input_1[0][0]                    \n",
      "__________________________________________________________________________________________________\n",
      "concatenate (Concatenate)       (None, 2)            0           sequential[0][0]                 \n",
      "                                                                 sequential_3[0][0]               \n",
      "__________________________________________________________________________________________________\n",
      "dense (Dense)                   (None, 1)            3           concatenate[0][0]                \n",
      "==================================================================================================\n",
      "Total params: 120,213,957\n",
      "Trainable params: 3\n",
      "Non-trainable params: 120,213,954\n",
      "__________________________________________________________________________________________________\n"
     ]
    }
   ],
   "source": [
    "#Creates first combined model\n",
    "combined_1 = tf.keras.layers.Concatenate()([model_MYoD1(inputs), model_trichrome(inputs)])\n",
    "outputs_1 = tf.keras.layers.Dense(1, activation='sigmoid')(combined_1)\n",
    "concat_model_1 = tf.keras.models.Model(inputs, outputs_1)\n",
    "\n",
    "concat_model_1.summary()"
   ]
  },
  {
   "cell_type": "code",
   "execution_count": 8,
   "id": "7c7a1648",
   "metadata": {},
   "outputs": [
    {
     "name": "stdout",
     "output_type": "stream",
     "text": [
      "Model: \"functional_3\"\n",
      "__________________________________________________________________________________________________\n",
      "Layer (type)                    Output Shape         Param #     Connected to                     \n",
      "==================================================================================================\n",
      "input_1 (InputLayer)            [(None, 200, 200, 3) 0                                            \n",
      "__________________________________________________________________________________________________\n",
      "sequential_2 (Sequential)       (None, 1)            56076545    input_1[0][0]                    \n",
      "__________________________________________________________________________________________________\n",
      "sequential_6 (Sequential)       (None, 1)            60106977    input_1[0][0]                    \n",
      "__________________________________________________________________________________________________\n",
      "concatenate_1 (Concatenate)     (None, 2)            0           sequential_2[0][0]               \n",
      "                                                                 sequential_6[0][0]               \n",
      "__________________________________________________________________________________________________\n",
      "dense_1 (Dense)                 (None, 1)            3           concatenate_1[0][0]              \n",
      "==================================================================================================\n",
      "Total params: 116,183,525\n",
      "Trainable params: 3\n",
      "Non-trainable params: 116,183,522\n",
      "__________________________________________________________________________________________________\n"
     ]
    }
   ],
   "source": [
    "#Creates second combined model\n",
    "combined_2 = tf.keras.layers.Concatenate()([model_HE(inputs), model_Myogenin(inputs)])\n",
    "outputs_2 = tf.keras.layers.Dense(1, activation = 'sigmoid')(combined_2)\n",
    "concat_model_2 = tf.keras.models.Model(inputs, outputs_2)\n",
    "\n",
    "concat_model_2.summary()"
   ]
  },
  {
   "cell_type": "code",
   "execution_count": 9,
   "id": "1f8287b2",
   "metadata": {},
   "outputs": [
    {
     "name": "stdout",
     "output_type": "stream",
     "text": [
      "Model: \"functional_5\"\n",
      "__________________________________________________________________________________________________\n",
      "Layer (type)                    Output Shape         Param #     Connected to                     \n",
      "==================================================================================================\n",
      "input_1 (InputLayer)            [(None, 200, 200, 3) 0                                            \n",
      "__________________________________________________________________________________________________\n",
      "functional_1 (Functional)       (None, 1)            120213957   input_1[0][0]                    \n",
      "__________________________________________________________________________________________________\n",
      "functional_3 (Functional)       (None, 1)            116183525   input_1[0][0]                    \n",
      "__________________________________________________________________________________________________\n",
      "concatenate_2 (Concatenate)     (None, 2)            0           functional_1[0][0]               \n",
      "                                                                 functional_3[0][0]               \n",
      "__________________________________________________________________________________________________\n",
      "dense_2 (Dense)                 (None, 1)            3           concatenate_2[0][0]              \n",
      "==================================================================================================\n",
      "Total params: 236,397,485\n",
      "Trainable params: 9\n",
      "Non-trainable params: 236,397,476\n",
      "__________________________________________________________________________________________________\n"
     ]
    }
   ],
   "source": [
    "#Combines both concatenated models\n",
    "combined_final = tf.keras.layers.Concatenate()([concat_model_1(inputs), concat_model_2(inputs)])\n",
    "outputs_final = tf.keras.layers.Dense(1, activation = 'sigmoid')(combined_final)\n",
    "model_final = tf.keras.models.Model(inputs, outputs_final)\n",
    "\n",
    "model_final.summary()"
   ]
  },
  {
   "cell_type": "code",
   "execution_count": 10,
   "id": "f126a488",
   "metadata": {},
   "outputs": [
    {
     "name": "stdout",
     "output_type": "stream",
     "text": [
      "Found 315 images belonging to 2 classes.\n",
      "Found 143 images belonging to 2 classes.\n"
     ]
    }
   ],
   "source": [
    "from tensorflow.keras.preprocessing.image import ImageDataGenerator\n",
    "from tensorflow.keras.optimizers import Adam\n",
    "\n",
    "model_final.compile(optimizer = Adam(lr=0.00009), \n",
    "              loss = 'binary_crossentropy', \n",
    "              metrics = ['AUC'])\n",
    "\n",
    "# Add our data-augmentation parameters to ImageDataGenerator\n",
    "train_datagen = ImageDataGenerator(rescale = 1.0/255.)\n",
    "\n",
    "train_generator, validation_generator = RMS_utils.prep_datagen(train_dir, validation_dir, train_datagen, 50, 200)"
   ]
  },
  {
   "cell_type": "code",
   "execution_count": 11,
   "id": "9dbaa69a",
   "metadata": {},
   "outputs": [
    {
     "name": "stdout",
     "output_type": "stream",
     "text": [
      "Epoch 1/4\n",
      "7/7 [==============================] - 18s 3s/step - loss: 0.3926 - auc: 0.8241 - val_loss: 0.7199 - val_auc: 0.7008\n",
      "Epoch 2/4\n",
      "7/7 [==============================] - 4s 618ms/step - loss: 0.3927 - auc: 0.8230 - val_loss: 0.7197 - val_auc: 0.6875\n",
      "Epoch 3/4\n",
      "7/7 [==============================] - 4s 619ms/step - loss: 0.3925 - auc: 0.8257 - val_loss: 0.7196 - val_auc: 0.6903\n",
      "Epoch 4/4\n",
      "7/7 [==============================] - 4s 615ms/step - loss: 0.3925 - auc: 0.8248 - val_loss: 0.7195 - val_auc: 0.6823\n"
     ]
    }
   ],
   "source": [
    "history = model_final.fit(train_generator,\n",
    "                      validation_data = validation_generator,\n",
    "                      epochs = 4,\n",
    "                      verbose = 1,\n",
    "                      class_weight= class_weight\n",
    "                   )"
   ]
  },
  {
   "cell_type": "code",
   "execution_count": 59,
   "id": "efa2a23d",
   "metadata": {},
   "outputs": [
    {
     "name": "stdout",
     "output_type": "stream",
     "text": [
      "Epoch 1/4\n",
      "31/31 [==============================] - 18s 591ms/step - loss: 0.0485 - auc_3: 0.9932 - val_loss: 0.5617 - val_auc_3: 0.8852\n",
      "Epoch 2/4\n",
      "31/31 [==============================] - 17s 561ms/step - loss: 0.0195 - auc_3: 0.9984 - val_loss: 0.4601 - val_auc_3: 0.9176\n",
      "Epoch 3/4\n",
      "31/31 [==============================] - 18s 590ms/step - loss: 0.0093 - auc_3: 0.9998 - val_loss: 0.4455 - val_auc_3: 0.9098\n",
      "Epoch 4/4\n",
      "31/31 [==============================] - 18s 568ms/step - loss: 0.0032 - auc_3: 1.0000 - val_loss: 0.4648 - val_auc_3: 0.9131\n"
     ]
    },
    {
     "data": {
      "text/plain": [
       "<tensorflow.python.keras.callbacks.History at 0x26ba93f8e48>"
      ]
     },
     "execution_count": 59,
     "metadata": {},
     "output_type": "execute_result"
    }
   ],
   "source": [
    "model_Myogenin.fit(train_generator,\n",
    "                      validation_data = validation_generator,\n",
    "                      epochs = 4,\n",
    "                      verbose = 1,\n",
    "                      class_weight= class_weight\n",
    "                   )"
   ]
  },
  {
   "cell_type": "code",
   "execution_count": 13,
   "id": "d3425a6d",
   "metadata": {},
   "outputs": [
    {
     "name": "stdout",
     "output_type": "stream",
     "text": [
      "Epoch 1/4\n",
      "7/7 [==============================] - 17s 2s/step - loss: 0.0063 - auc_2: 1.0000 - val_loss: 0.5138 - val_auc_2: 0.9090\n",
      "Epoch 2/4\n",
      "7/7 [==============================] - 4s 518ms/step - loss: 5.6131e-04 - auc_2: 1.0000 - val_loss: 0.9089 - val_auc_2: 0.8708\n",
      "Epoch 3/4\n",
      "7/7 [==============================] - 3s 490ms/step - loss: 0.0046 - auc_2: 1.0000 - val_loss: 0.9187 - val_auc_2: 0.8882\n",
      "Epoch 4/4\n",
      "7/7 [==============================] - 4s 532ms/step - loss: 0.0111 - auc_2: 0.9999 - val_loss: 1.2204 - val_auc_2: 0.8943\n"
     ]
    },
    {
     "data": {
      "text/plain": [
       "<tensorflow.python.keras.callbacks.History at 0x180acd57608>"
      ]
     },
     "execution_count": 13,
     "metadata": {},
     "output_type": "execute_result"
    }
   ],
   "source": [
    "model_MYoD1.fit(train_generator,\n",
    "                      validation_data = validation_generator,\n",
    "                      epochs = 4,\n",
    "                      verbose = 1,\n",
    "                      class_weight= class_weight\n",
    "                   )"
   ]
  },
  {
   "cell_type": "code",
   "execution_count": 61,
   "id": "902e948c",
   "metadata": {},
   "outputs": [
    {
     "name": "stdout",
     "output_type": "stream",
     "text": [
      "Epoch 1/4\n",
      " 2/31 [>.............................] - ETA: 9s - loss: 0.2088 - auc_2: 0.9472WARNING:tensorflow:Callbacks method `on_train_batch_end` is slow compared to the batch time (batch time: 0.1601s vs `on_train_batch_end` time: 0.2452s). Check your callbacks.\n",
      "31/31 [==============================] - 18s 578ms/step - loss: 0.1291 - auc_2: 0.9628 - val_loss: 0.3786 - val_auc_2: 0.9072\n",
      "Epoch 2/4\n",
      "31/31 [==============================] - 17s 562ms/step - loss: 0.0384 - auc_2: 0.9971 - val_loss: 0.4530 - val_auc_2: 0.9089\n",
      "Epoch 3/4\n",
      "31/31 [==============================] - 17s 562ms/step - loss: 0.0224 - auc_2: 0.9989 - val_loss: 0.5420 - val_auc_2: 0.8816\n",
      "Epoch 4/4\n",
      "31/31 [==============================] - 17s 563ms/step - loss: 0.0215 - auc_2: 0.9982 - val_loss: 0.4857 - val_auc_2: 0.9141\n"
     ]
    },
    {
     "data": {
      "text/plain": [
       "<tensorflow.python.keras.callbacks.History at 0x26bf4e47d88>"
      ]
     },
     "execution_count": 61,
     "metadata": {},
     "output_type": "execute_result"
    }
   ],
   "source": [
    "model_trichrome.fit(train_generator,\n",
    "                      validation_data = validation_generator,\n",
    "                      epochs = 4,\n",
    "                      verbose = 1,\n",
    "                      class_weight= class_weight\n",
    "                   )"
   ]
  },
  {
   "cell_type": "code",
   "execution_count": 62,
   "id": "afcb517b",
   "metadata": {},
   "outputs": [
    {
     "name": "stdout",
     "output_type": "stream",
     "text": [
      "Epoch 1/4\n",
      "31/31 [==============================] - 18s 574ms/step - loss: 0.0850 - auc: 0.9843 - val_loss: 0.3749 - val_auc: 0.8563\n",
      "Epoch 2/4\n",
      "31/31 [==============================] - 18s 566ms/step - loss: 0.0174 - auc: 0.9997 - val_loss: 0.3184 - val_auc: 0.8874\n",
      "Epoch 3/4\n",
      "31/31 [==============================] - 18s 565ms/step - loss: 0.0167 - auc: 0.9985 - val_loss: 0.3854 - val_auc: 0.9070\n",
      "Epoch 4/4\n",
      "31/31 [==============================] - 17s 564ms/step - loss: 0.0180 - auc: 0.9979 - val_loss: 0.4758 - val_auc: 0.9031\n"
     ]
    },
    {
     "data": {
      "text/plain": [
       "<tensorflow.python.keras.callbacks.History at 0x26bf4d9d148>"
      ]
     },
     "execution_count": 62,
     "metadata": {},
     "output_type": "execute_result"
    }
   ],
   "source": [
    "model_HE.fit(train_generator,\n",
    "                      validation_data = validation_generator,\n",
    "                      epochs = 4,\n",
    "                      verbose = 1,\n",
    "                      class_weight= class_weight\n",
    "                   )"
   ]
  },
  {
   "cell_type": "code",
   "execution_count": 14,
   "id": "b232e4be",
   "metadata": {},
   "outputs": [
    {
     "name": "stdout",
     "output_type": "stream",
     "text": [
      "Confusion Matrix\n",
      "[[37  3]\n",
      " [17 86]]\n",
      "              precision    recall  f1-score   support\n",
      "\n",
      "        ARMS       0.69      0.93      0.79        40\n",
      "        ERMS       0.97      0.83      0.90       103\n",
      "\n",
      "    accuracy                           0.86       143\n",
      "   macro avg       0.83      0.88      0.84       143\n",
      "weighted avg       0.89      0.86      0.87       143\n",
      "\n"
     ]
    }
   ],
   "source": [
    "RMS_utils.show_preds(model_MYoD1, validation_generator)"
   ]
  }
 ],
 "metadata": {
  "kernelspec": {
   "display_name": "Python 3",
   "language": "python",
   "name": "python3"
  },
  "language_info": {
   "codemirror_mode": {
    "name": "ipython",
    "version": 3
   },
   "file_extension": ".py",
   "mimetype": "text/x-python",
   "name": "python",
   "nbconvert_exporter": "python",
   "pygments_lexer": "ipython3",
   "version": "3.7.10"
  }
 },
 "nbformat": 4,
 "nbformat_minor": 5
}
